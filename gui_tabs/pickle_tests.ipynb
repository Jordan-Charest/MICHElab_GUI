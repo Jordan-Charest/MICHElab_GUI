{
 "cells": [
  {
   "cell_type": "code",
   "execution_count": 3,
   "id": "3c01a27a",
   "metadata": {},
   "outputs": [],
   "source": [
    "import pickle\n",
    "import os\n",
    "\n",
    "def save_dict_to_pickle(data: dict, filename: str):\n",
    "    \"\"\"Saves a dictionary to a pickle file, overwriting if it exists.\"\"\"\n",
    "    with open(filename, 'wb') as f:\n",
    "        pickle.dump(data, f)\n",
    "    print(f\"Dictionary saved to {filename}\")\n",
    "\n",
    "def append_to_pickle(new_data: dict, filename: str):\n",
    "    \"\"\"Loads an existing pickle file, updates it with new data, and saves it back.\"\"\"\n",
    "    if not os.path.exists(filename):\n",
    "        raise FileNotFoundError(f\"File '{filename}' does not exist. You must create it first.\")\n",
    "\n",
    "    with open(filename, 'rb') as f:\n",
    "        existing_data = pickle.load(f)\n",
    "\n",
    "    if not isinstance(existing_data, dict):\n",
    "        raise ValueError(\"Pickle file does not contain a dictionary.\")\n",
    "\n",
    "    existing_data.update(new_data)\n",
    "\n",
    "    with open(filename, 'wb') as f:\n",
    "        pickle.dump(existing_data, f)\n",
    "\n",
    "    print(f\"Dictionary in {filename} updated with new data\")\n",
    "\n",
    "def read_file(file):\n",
    "    # Optional: Verify contents\n",
    "    with open(file, 'rb') as f:\n",
    "        final_data = pickle.load(f)\n",
    "        print(\"Final contents of the pickle file:\", final_data)\n",
    "\n",
    "\n",
    "# file = \"data.pkl\"\n",
    "\n",
    "# # Step 1: Save initial data\n",
    "# initial_dict = {\"a\": 1, \"b\": 2}\n",
    "# save_dict_to_pickle(initial_dict, file)\n",
    "# read_file(file)\n",
    "\n",
    "# # Step 2: Append new data\n",
    "# additional_dict = {\"c\": 3, \"d\": 4}\n",
    "# append_dict_to_pickle(additional_dict, file)\n",
    "# read_file(file)\n",
    "\n",
    "\n"
   ]
  },
  {
   "cell_type": "code",
   "execution_count": 4,
   "id": "3ec9917e",
   "metadata": {},
   "outputs": [
    {
     "name": "stdout",
     "output_type": "stream",
     "text": [
      "Final contents of the pickle file: {'umap_model': UMAP(n_neighbors=300, tqdm_kwds={'bar_format': '{desc}: {percentage:3.0f}%| {bar} {n_fmt}/{total_fmt} [{elapsed}]', 'desc': 'Epochs completed', 'disable': True}), 'umap_embedding': array([[13.037523 ,  7.014293 ],\n",
      "       [13.143992 ,  7.0473523],\n",
      "       [13.066624 ,  7.1414   ],\n",
      "       ...,\n",
      "       [15.634088 ,  1.9865772],\n",
      "       [15.6588   ,  1.9884874],\n",
      "       [15.5039215,  2.1607788]], dtype=float32), 'umap_params': {'n_neighbors': 300, 'min_dist': 0.1, 'metric': 'euclidean'}, 'umap_input_filepaths': ['D:/mouse_data/formatted/M316/formatted/M316_CAN_v2.h5'], 'umap_input_datasets': ['data/3d/GCaMP'], 'elements_mask': array([False, False, False, ..., False, False, False]), 'shape': (226, 234), 'pca_model': PCA(), 'pca_embedding': array([[ 1.27425339e+02, -7.15314150e+00, -5.30784492e+01, ...,\n",
      "        -1.34265050e-04,  1.44671649e-05, -1.14738941e-06],\n",
      "       [ 1.25204605e+02, -3.77002764e+00, -4.81465912e+01, ...,\n",
      "         3.28246504e-04,  6.27338886e-06, -2.13086605e-06],\n",
      "       [ 1.15794212e+02,  3.62309396e-01, -4.64813805e+01, ...,\n",
      "        -3.67671251e-04,  1.58064067e-05, -6.45220280e-06],\n",
      "       ...,\n",
      "       [-7.91421738e+01,  1.73699913e+01, -3.15941811e+01, ...,\n",
      "        -3.64854932e-04,  1.62124634e-05, -9.86526720e-06],\n",
      "       [-7.45267410e+01,  1.98266907e+01, -3.30342293e+01, ...,\n",
      "         3.25024128e-04,  1.13695860e-05,  8.84104520e-06],\n",
      "       [-7.34070435e+01,  2.01394024e+01, -3.45834389e+01, ...,\n",
      "        -1.35153532e-04,  1.36867166e-05, -2.17184424e-06]], dtype=float32), 'pca_params': {'n_components': None}, 'pca_input_filepaths': ['D:/mouse_data/formatted/M316/formatted/M316_CAN_v2.h5'], 'pca_input_datasets': ['data/3d/GCaMP']}\n"
     ]
    }
   ],
   "source": [
    "read_file(f\"D:/mouse_data/formatted/M316/formatted/M316_CAN_v2_GCaMP_dimred.pkl\")"
   ]
  },
  {
   "cell_type": "code",
   "execution_count": 5,
   "id": "b01e202b",
   "metadata": {},
   "outputs": [
    {
     "name": "stdout",
     "output_type": "stream",
     "text": [
      "Final contents of the pickle file: {'umap_model': UMAP(n_neighbors=300, tqdm_kwds={'bar_format': '{desc}: {percentage:3.0f}%| {bar} {n_fmt}/{total_fmt} [{elapsed}]', 'desc': 'Epochs completed', 'disable': True}), 'umap_embedding': array([[ 5.9964547,  9.735725 ],\n",
      "       [ 6.051637 ,  9.775786 ],\n",
      "       [ 5.979953 ,  9.753383 ],\n",
      "       ...,\n",
      "       [-3.7711017, 17.888474 ],\n",
      "       [-3.7158246, 17.794569 ],\n",
      "       [-3.65629  , 17.773968 ]], dtype=float32), 'umap_params': {'n_neighbors': 300, 'min_dist': 0.1, 'metric': 'euclidean'}, 'umap_input_filepaths': ['D:/mouse_data/formatted/M316/formatted/M316_CAN_v2.h5'], 'umap_input_datasets': ['data/3d/HbT'], 'elements_mask': array([False, False, False, ..., False, False, False]), 'shape': (226, 234), 'pca_model': PCA(), 'pca_embedding': array([[ 1.04151688e+02, -4.14862900e+01,  6.37651176e+01, ...,\n",
      "        -3.08454037e-06, -1.68383121e-06,  5.77419996e-06],\n",
      "       [ 1.05680199e+02, -4.38228149e+01,  6.20030861e+01, ...,\n",
      "         2.44081020e-05,  6.45071268e-05,  4.06801701e-05],\n",
      "       [ 1.02289841e+02, -4.50494957e+01,  6.18796730e+01, ...,\n",
      "         1.17465854e-04, -3.58447433e-05,  8.51601362e-06],\n",
      "       ...,\n",
      "       [-1.94511444e+02,  4.58540058e+00, -8.78299809e+00, ...,\n",
      "         1.09620392e-04, -3.50847840e-05, -1.03190541e-06],\n",
      "       [-1.87860184e+02,  7.56128407e+00, -9.11491680e+00, ...,\n",
      "         5.78090549e-05,  6.63548708e-05,  1.15074217e-05],\n",
      "       [-1.85795898e+02,  1.05074644e+01, -7.82048178e+00, ...,\n",
      "        -1.20997429e-05,  7.30156898e-07, -1.30999833e-05]], dtype=float32), 'pca_params': {'n_components': None}, 'pca_input_filepaths': ['D:/mouse_data/formatted/M316/formatted/M316_CAN_v2.h5'], 'pca_input_datasets': ['data/3d/HbT'], 'labels': array([3, 3, 3, ..., 1, 1, 1]), 'labels_clustering_method': 'KMeans', 'labels_clustering_param': '4'}\n"
     ]
    }
   ],
   "source": [
    "read_file(\"D:/mouse_data/formatted/M316/formatted/M316_CAN_v2_HbT_dimred.pkl\")"
   ]
  }
 ],
 "metadata": {
  "kernelspec": {
   "display_name": "Python 3",
   "language": "python",
   "name": "python3"
  },
  "language_info": {
   "codemirror_mode": {
    "name": "ipython",
    "version": 3
   },
   "file_extension": ".py",
   "mimetype": "text/x-python",
   "name": "python",
   "nbconvert_exporter": "python",
   "pygments_lexer": "ipython3",
   "version": "3.11.5"
  }
 },
 "nbformat": 4,
 "nbformat_minor": 5
}
